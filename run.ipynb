{
 "cells": [
  {
   "cell_type": "markdown",
   "id": "e7940fb5-2650-4006-b6da-bfbbcebcfccd",
   "metadata": {
    "jp-MarkdownHeadingCollapsed": true,
    "tags": []
   },
   "source": [
    "# LoRA 训练界面 SD-Trainer\n",
    "\n",
    "LoRA训练镜像 By [秋葉aaaki@bilibili](https://space.bilibili.com/12566101)\n",
    "使用方法：https://www.bilibili.com/read/cv24050162/\n",
    "## 昂-修正v0.1 -casdao 分支\n",
    "### 与原版不同特性\n",
    "- 适配 casdao自带 Tenserboard, 请打开 容器实例 页面的 tenserboard´\n",
    "- 配置了clash-for-linux, 以便自行进行学术加速 (目前casdao自带proxy可以不管)\n",
    "- 预装 git-lfs 并启用\n",
    "- 可自行修改 ´lora-scripts/sdxl_train_util.py´ 中clip模型路径, 规避网络错误\n",
    "\n",
    "> 20行 TOKENIZER1_PATH = \"openai/clip-vit-large-patch14\" # 将这里换成你下好的clip路径 https://ai.gitee.com/hf-models/openai/clip-vit-large-patch14 \n",
    "\n",
    "> 21行 TOKENIZER2_PATH = \"laion/CLIP-ViT-bigG-14-laion2B-39B-b160k\" # https://ai.gitee.com/hf-models/laion/CLIP-ViT-bigG-14-laion2B-39B-b160k/blob/main/README.md\n",
    "\n",
    "### 沿用的原版特性\n",
    "- 全新：训练界面正式更新，使用 bash run_gui.sh 运行。\n",
    "- 内置 SDXL 模型，以及修复的 VAE。训练时如果遇到报错请填写覆盖 VAE 的参数，路径 `./sd-models/vae/sdxl_vae.safetensors`\n",
    "- 升级至 SD-Trainer v1.8.3\n",
    "- Tag 编辑器"
   ]
  },
  {
   "cell_type": "markdown",
   "id": "d758b1c6",
   "metadata": {},
   "source": [
    "# 0. 配置 clash\n",
    "1. 修改/home/tom/clash_config.env\n",
    "2. 运行 sudo /home/tom/clash-start.sh"
   ]
  },
  {
   "cell_type": "code",
   "execution_count": null,
   "id": "4d2f13cd",
   "metadata": {},
   "outputs": [],
   "source": [
    "!sudo /home/tom/clash-start.sh"
   ]
  },
  {
   "cell_type": "markdown",
   "id": "99edaa2b-9ba2-4fde-9b2e-af5dc8bf7062",
   "metadata": {
    "tags": []
   },
   "source": [
    "# 1. 更新\n"
   ]
  },
  {
   "cell_type": "code",
   "execution_count": null,
   "id": "ad594cf9-723a-4386-b710-bdcb5078138d",
   "metadata": {},
   "outputs": [],
   "source": [
    "!git pull && git submodule init && git submodule update"
   ]
  },
  {
   "cell_type": "code",
   "execution_count": null,
   "id": "8497cb84-66c2-484b-9447-cd0f5b7365a3",
   "metadata": {},
   "outputs": [],
   "source": [
    "!ln -s sd-scripts/library/sdxl_train_util.py ./sdxl_train_util.py "
   ]
  },
  {
   "cell_type": "markdown",
   "id": "4620e7a5-c627-4cbf-973f-5bdb469b25ad",
   "metadata": {},
   "source": [
    "# 2. 预下载clip模型\n"
   ]
  },
  {
   "cell_type": "markdown",
   "id": "26f71b3c-5221-4b4a-9173-ffe2ed647807",
   "metadata": {},
   "source": [
    "#### 1.Openai/clip-vit-large-patch14"
   ]
  },
  {
   "cell_type": "code",
   "execution_count": null,
   "id": "409cf316-bf94-40f3-a93b-d71a1174114a",
   "metadata": {},
   "outputs": [],
   "source": [
    "!export GIT_LFS_SKIP_SMUDGE=1 && git clone https://huggingface.co/openai/clip-vit-large-patch14"
   ]
  },
  {
   "cell_type": "code",
   "execution_count": null,
   "id": "1fb06437-61ca-4bfb-aa58-d21093a3532e",
   "metadata": {},
   "outputs": [],
   "source": [
    "!cd ./clip-vit-large-patch14 && wget https://huggingface.co/openai/clip-vit-large-patch14/resolve/main/model.safetensors?download=true -O model.safetensors"
   ]
  },
  {
   "cell_type": "markdown",
   "id": "bcaaba5e-d17a-4974-9f70-a6c5e8e3df33",
   "metadata": {},
   "source": [
    "#### 2.Laion/CLIP-ViT-bigG-14-laion2B-39B-b160k"
   ]
  },
  {
   "cell_type": "code",
   "execution_count": null,
   "id": "55bf7f89-c252-46d6-9733-cf86b534870e",
   "metadata": {},
   "outputs": [],
   "source": [
    "!export GIT_LFS_SKIP_SMUDGE=1 && git clone https://huggingface.co/laion/CLIP-ViT-bigG-14-laion2B-39B-b160k "
   ]
  },
  {
   "cell_type": "code",
   "execution_count": null,
   "id": "7294c675-7127-4bd6-8f78-096761d0a89f",
   "metadata": {},
   "outputs": [],
   "source": [
    "!cd ./CLIP-ViT-bigG-14-laion2B-39B-b160k/ && wget https://huggingface.co/laion/CLIP-ViT-bigG-14-laion2B-39B-b160k/resolve/main/open_clip_pytorch_model.safetensors?download=true -O open_clip_pytorch_model.safetensors"
   ]
  },
  {
   "cell_type": "markdown",
   "id": "251a0578-1402-4195-ad8a-cdd69a43c8e2",
   "metadata": {},
   "source": [
    "# 3. 运行"
   ]
  },
  {
   "cell_type": "code",
   "execution_count": null,
   "id": "7ae0678f-69df-4a12-a0bc-1325e52e9122",
   "metadata": {},
   "outputs": [],
   "source": [
    "!export HF_HOME=huggingface && python gui.py"
   ]
  },
  {
   "cell_type": "code",
   "execution_count": null,
   "id": "9d6ce90f-c9ed-42ea-8a2c-caead8bc3006",
   "metadata": {},
   "outputs": [],
   "source": []
  }
 ],
 "metadata": {
  "kernelspec": {
   "display_name": "Python 3 (ipykernel)",
   "language": "python",
   "name": "python3"
  },
  "language_info": {
   "codemirror_mode": {
    "name": "ipython",
    "version": 3
   },
   "file_extension": ".py",
   "mimetype": "text/x-python",
   "name": "python",
   "nbconvert_exporter": "python",
   "pygments_lexer": "ipython3",
   "version": "3.10.13"
  }
 },
 "nbformat": 4,
 "nbformat_minor": 5
}
